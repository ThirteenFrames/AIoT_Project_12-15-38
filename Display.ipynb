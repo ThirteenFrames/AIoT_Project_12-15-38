{
 "cells": [
  {
   "cell_type": "code",
   "execution_count": 38,
   "id": "e1feaad1",
   "metadata": {},
   "outputs": [
    {
     "ename": "ModuleNotFoundError",
     "evalue": "No module named 'face_recognition'",
     "output_type": "error",
     "traceback": [
      "\u001b[1;31m---------------------------------------------------------------------------\u001b[0m",
      "\u001b[1;31mModuleNotFoundError\u001b[0m                       Traceback (most recent call last)",
      "Input \u001b[1;32mIn [38]\u001b[0m, in \u001b[0;36m<cell line: 4>\u001b[1;34m()\u001b[0m\n\u001b[0;32m      1\u001b[0m \u001b[38;5;28;01mimport\u001b[39;00m \u001b[38;5;21;01mtkinter\u001b[39;00m\n\u001b[0;32m      2\u001b[0m \u001b[38;5;28;01mfrom\u001b[39;00m \u001b[38;5;21;01mtkinter\u001b[39;00m \u001b[38;5;28;01mimport\u001b[39;00m \u001b[38;5;241m*\u001b[39m\n\u001b[1;32m----> 4\u001b[0m \u001b[38;5;28;01mfrom\u001b[39;00m \u001b[38;5;21;01mMain\u001b[39;00m \u001b[38;5;28;01mimport\u001b[39;00m register\n",
      "File \u001b[1;32m~\\Documents\\GitHub\\AIoT_Project_12-15-38\\Main.py:7\u001b[0m, in \u001b[0;36m<module>\u001b[1;34m\u001b[0m\n\u001b[0;32m      1\u001b[0m \u001b[38;5;66;03m#!/usr/bin/env python\u001b[39;00m\n\u001b[0;32m      2\u001b[0m \u001b[38;5;66;03m# coding: utf-8\u001b[39;00m\n\u001b[0;32m      3\u001b[0m \n\u001b[0;32m      4\u001b[0m \u001b[38;5;66;03m# In[1]:\u001b[39;00m\n\u001b[1;32m----> 7\u001b[0m \u001b[38;5;28;01mimport\u001b[39;00m \u001b[38;5;21;01mface_recognition\u001b[39;00m\n\u001b[0;32m      8\u001b[0m \u001b[38;5;28;01mimport\u001b[39;00m \u001b[38;5;21;01mcv2\u001b[39;00m\n\u001b[0;32m      9\u001b[0m \u001b[38;5;28;01mimport\u001b[39;00m \u001b[38;5;21;01mnumpy\u001b[39;00m \u001b[38;5;28;01mas\u001b[39;00m \u001b[38;5;21;01mnp\u001b[39;00m\n",
      "\u001b[1;31mModuleNotFoundError\u001b[0m: No module named 'face_recognition'"
     ]
    }
   ],
   "source": [
    "import tkinter\n",
    "from tkinter import *\n",
    "\n",
    "import Main"
   ]
  },
  {
   "cell_type": "code",
   "execution_count": 33,
   "id": "82b8985a",
   "metadata": {},
   "outputs": [],
   "source": [
    "# Initialize main window\n",
    "main_frame = tkinter.Tk()\n",
    "\n",
    "# Setup window \n",
    "main_frame.title(\"Register\")\n",
    "main_frame.geometry(\"500x500\")\n",
    "main_frame.grid()"
   ]
  },
  {
   "cell_type": "code",
   "execution_count": 39,
   "id": "0b0c4ca6",
   "metadata": {},
   "outputs": [
    {
     "ename": "NameError",
     "evalue": "name 'Main' is not defined",
     "output_type": "error",
     "traceback": [
      "\u001b[1;31m---------------------------------------------------------------------------\u001b[0m",
      "\u001b[1;31mNameError\u001b[0m                                 Traceback (most recent call last)",
      "Input \u001b[1;32mIn [39]\u001b[0m, in \u001b[0;36m<cell line: 6>\u001b[1;34m()\u001b[0m\n\u001b[0;32m      3\u001b[0m Label(main_frame, text\u001b[38;5;241m=\u001b[39m\u001b[38;5;124m\"\u001b[39m\u001b[38;5;124mPresent\u001b[39m\u001b[38;5;124m\"\u001b[39m, borderwidth\u001b[38;5;241m=\u001b[39m\u001b[38;5;241m50\u001b[39m)\u001b[38;5;241m.\u001b[39mgrid(row\u001b[38;5;241m=\u001b[39m\u001b[38;5;241m0\u001b[39m, column\u001b[38;5;241m=\u001b[39m\u001b[38;5;241m1\u001b[39m)\n\u001b[0;32m      5\u001b[0m \u001b[38;5;66;03m# Get register\u001b[39;00m\n\u001b[1;32m----> 6\u001b[0m register \u001b[38;5;241m=\u001b[39m \u001b[43mMain\u001b[49m\u001b[38;5;241m.\u001b[39mregister()\n\u001b[0;32m      8\u001b[0m \u001b[38;5;66;03m# Get number of students\u001b[39;00m\n\u001b[0;32m      9\u001b[0m NUM_STUDENTS \u001b[38;5;241m=\u001b[39m Main\u001b[38;5;241m.\u001b[39mget_num_students()\n",
      "\u001b[1;31mNameError\u001b[0m: name 'Main' is not defined"
     ]
    }
   ],
   "source": [
    "# Create table\n",
    "Label(main_frame, text=\"Full Name\", borderwidth=4, padx=20, pady=20, font=\"Helvetica 18 bold\", relief=\"solid\").grid(row=0, column=0)\n",
    "Label(main_frame, text=\"Present\", borderwidth=4, padx=20, pady=20, font=\"Helvetica 18 bold\", relief=\"solid\").grid(row=0, column=1)\n",
    "\n",
    "# Get register\n",
    "register = Main.get_register()\n",
    "\n",
    "# Get number of students\n",
    "NUM_STUDENTS = Main.get_num_students()\n",
    "\n",
    "# Add register to table\n",
    "for i in range(0, NUM_STUDENTS):\n",
    "    Label(main_frame, text = register[0][i], borderwidth=4, padx=20, pady=20,\n",
    "          font=\"Helvetica 18\", relief=\"groove\").grid(row =i+1, column=0)\n",
    "    Label(main_frame, text = str(register[1][i]), borderwidth=4, padx=20, pady=20,\n",
    "          font=\"Helvetica 18\", relief=\"groove\").grid(row =i+1, column=1)"
   ]
  },
  {
   "cell_type": "code",
   "execution_count": 30,
   "id": "d63f1e8d",
   "metadata": {},
   "outputs": [],
   "source": [
    "# Run the window\n",
    "main_frame.mainloop()"
   ]
  },
  {
   "cell_type": "code",
   "execution_count": null,
   "id": "1ce9584b",
   "metadata": {},
   "outputs": [],
   "source": []
  },
  {
   "cell_type": "code",
   "execution_count": null,
   "id": "e3bbeae7",
   "metadata": {},
   "outputs": [],
   "source": []
  }
 ],
 "metadata": {
  "kernelspec": {
   "display_name": "Python 3 (ipykernel)",
   "language": "python",
   "name": "python3"
  },
  "language_info": {
   "codemirror_mode": {
    "name": "ipython",
    "version": 3
   },
   "file_extension": ".py",
   "mimetype": "text/x-python",
   "name": "python",
   "nbconvert_exporter": "python",
   "pygments_lexer": "ipython3",
   "version": "3.9.12"
  }
 },
 "nbformat": 4,
 "nbformat_minor": 5
}
