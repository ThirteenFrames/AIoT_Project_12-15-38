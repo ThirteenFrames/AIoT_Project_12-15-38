{
 "cells": [
  {
   "cell_type": "code",
   "execution_count": 1,
   "id": "89c11a47",
   "metadata": {},
   "outputs": [
    {
     "ename": "ModuleNotFoundError",
     "evalue": "No module named 'face_recognition'",
     "output_type": "error",
     "traceback": [
      "\u001b[1;31m---------------------------------------------------------------------------\u001b[0m",
      "\u001b[1;31mModuleNotFoundError\u001b[0m                       Traceback (most recent call last)",
      "Input \u001b[1;32mIn [1]\u001b[0m, in \u001b[0;36m<cell line: 1>\u001b[1;34m()\u001b[0m\n\u001b[1;32m----> 1\u001b[0m \u001b[38;5;28;01mimport\u001b[39;00m \u001b[38;5;21;01mface_recognition\u001b[39;00m\n\u001b[0;32m      2\u001b[0m \u001b[38;5;28;01mimport\u001b[39;00m \u001b[38;5;21;01mcv2\u001b[39;00m\n\u001b[0;32m      3\u001b[0m \u001b[38;5;28;01mimport\u001b[39;00m \u001b[38;5;21;01mnumpy\u001b[39;00m \u001b[38;5;28;01mas\u001b[39;00m \u001b[38;5;21;01mnp\u001b[39;00m\n",
      "\u001b[1;31mModuleNotFoundError\u001b[0m: No module named 'face_recognition'"
     ]
    }
   ],
   "source": [
    "import face_recognition\n",
    "import cv2\n",
    "import numpy as np\n",
    "import scipy as sp\n",
    "import pandas as pd"
   ]
  },
  {
   "cell_type": "code",
   "execution_count": null,
   "id": "68c5fafb",
   "metadata": {},
   "outputs": [],
   "source": []
  },
  {
   "cell_type": "code",
   "execution_count": null,
   "id": "279023c7",
   "metadata": {},
   "outputs": [],
   "source": [
    "# Get a reference to webcam #0 (the default one)\n",
    "video_capture = cv2.VideoCapture(0)"
   ]
  },
  {
   "cell_type": "code",
   "execution_count": 1,
   "id": "8ac55dbe",
   "metadata": {},
   "outputs": [
    {
     "ename": "NameError",
     "evalue": "name 'face_recognition' is not defined",
     "output_type": "error",
     "traceback": [
      "\u001b[1;31m---------------------------------------------------------------------------\u001b[0m",
      "\u001b[1;31mNameError\u001b[0m                                 Traceback (most recent call last)",
      "Input \u001b[1;32mIn [1]\u001b[0m, in \u001b[0;36m<cell line: 2>\u001b[1;34m()\u001b[0m\n\u001b[0;32m      1\u001b[0m \u001b[38;5;66;03m# Load a sample picture and learn how to recognize it.\u001b[39;00m\n\u001b[1;32m----> 2\u001b[0m obama_image \u001b[38;5;241m=\u001b[39m \u001b[43mface_recognition\u001b[49m\u001b[38;5;241m.\u001b[39mload_image_file(\u001b[38;5;124m\"\u001b[39m\u001b[38;5;124mobama.jpg\u001b[39m\u001b[38;5;124m\"\u001b[39m)\n\u001b[0;32m      3\u001b[0m obama_face_encoding \u001b[38;5;241m=\u001b[39m face_recognition\u001b[38;5;241m.\u001b[39mface_encodings(obama_image)[\u001b[38;5;241m0\u001b[39m]\n\u001b[0;32m      5\u001b[0m \u001b[38;5;66;03m# Load a second sample picture and learn how to recognize it.\u001b[39;00m\n",
      "\u001b[1;31mNameError\u001b[0m: name 'face_recognition' is not defined"
     ]
    }
   ],
   "source": [
    "# Create list of known face names\n",
    "known_face_names = []\n",
    "\n",
    "# load text file of student names\n",
    "with open('Students/student_names.txt', 'r') as names_file:\n",
    "    \n",
    "    cnt = 0\n",
    "    while True:\n",
    "        student_name = names_file.readline().strip()\n",
    "        \n",
    "        # Break if end of file reached\n",
    "        if student_name == \"\":\n",
    "            break\n",
    "            \n",
    "        # Append to list\n",
    "        else:\n",
    "            known_face_names.append(student_name)\n",
    "            cnt += 1\n",
    "\n",
    "            \n",
    "# Define number of students constant\n",
    "NUM_STUDENTS = cnt\n"
   ]
  },
  {
   "cell_type": "code",
   "execution_count": null,
   "id": "41cda950",
   "metadata": {},
   "outputs": [],
   "source": [
    "# Define Student ID, assumes no. of students < 100\n",
    "\n",
    "def id(num):\n",
    "    string = \"\"\n",
    "    \n",
    "    if num < 10:\n",
    "        string = \"0\" + str(num)\n",
    "    else:\n",
    "        string = str(num)\n",
    "    \n",
    "    return string"
   ]
  },
  {
   "cell_type": "code",
   "execution_count": null,
   "id": "aae61644",
   "metadata": {},
   "outputs": [],
   "source": [
    "# Create list of known face encodings \n",
    "known_face_encodings = []\n",
    "\n",
    "for i in range(0, NUM_STUDENTS):\n",
    "    \n",
    "    # Path takes into account ID\n",
    "    student_img = face_recognition.load_image_file(\"Students/img_\" + id(i+1) + \".jpg\")\n",
    "    \n",
    "    # Convert into encoding\n",
    "    student_face_encoding = face_recognition.face_encodings(student_img)[0]\n",
    "    \n",
    "    # Append to list\n",
    "    known_face_encodings.append(student_face_encoding)\n",
    "\n"
   ]
  },
  {
   "cell_type": "code",
   "execution_count": 1,
   "id": "2146fa18",
   "metadata": {},
   "outputs": [
    {
     "ename": "NameError",
     "evalue": "name 'NUM_STUDENTS' is not defined",
     "output_type": "error",
     "traceback": [
      "\u001b[1;31m---------------------------------------------------------------------------\u001b[0m",
      "\u001b[1;31mNameError\u001b[0m                                 Traceback (most recent call last)",
      "Input \u001b[1;32mIn [1]\u001b[0m, in \u001b[0;36m<cell line: 8>\u001b[1;34m()\u001b[0m\n\u001b[0;32m      5\u001b[0m process_this_frame \u001b[38;5;241m=\u001b[39m \u001b[38;5;28;01mTrue\u001b[39;00m\n\u001b[0;32m      7\u001b[0m \u001b[38;5;66;03m# Initialize Register\u001b[39;00m\n\u001b[1;32m----> 8\u001b[0m students_present \u001b[38;5;241m=\u001b[39m [\u001b[38;5;28;01mFalse\u001b[39;00m] \u001b[38;5;241m*\u001b[39m \u001b[43mNUM_STUDENTS\u001b[49m\n\u001b[0;32m     10\u001b[0m \u001b[38;5;66;03m# Initialize how long students were seen\u001b[39;00m\n\u001b[0;32m     11\u001b[0m recognized_frames \u001b[38;5;241m=\u001b[39m [\u001b[38;5;241m0\u001b[39m] \u001b[38;5;241m*\u001b[39m NUM_STUDENTS\n",
      "\u001b[1;31mNameError\u001b[0m: name 'NUM_STUDENTS' is not defined"
     ]
    }
   ],
   "source": [
    "# Initialize some variables\n",
    "face_locations = []\n",
    "face_encodings = []\n",
    "face_names = []\n",
    "process_this_frame = True\n",
    "\n",
    "# Initialize Register\n",
    "students_present = [False] * NUM_STUDENTS\n",
    "\n",
    "# Initialize how long students were seen\n",
    "recognized_frames = [0] * NUM_STUDENTS\n",
    "\n",
    "# Initialize window of 3 seconds, at 30 frames per second\n",
    "# Note that 0 represents unknown identity\n",
    "# window = pd.Series(np.zeros(30*3), dtype=int)\n",
    "\n",
    "while True:\n",
    "    # Grab a single frame of video\n",
    "    ret, frame = video_capture.read()\n",
    "    if len(frame.shape) == 2:\n",
    "        frame = cv2.cvtColor(frame,cv2.COLOR_GRAY2BGR)\n",
    "\n",
    "        \n",
    "    # Check if no frame\n",
    "    if frame is None:\n",
    "        continue\n",
    "\n",
    "    # Only process every other frame of video to save time\n",
    "    if process_this_frame:\n",
    "        # Resize frame of video to 1/4 size for faster face recognition processing\n",
    "        small_frame = cv2.resize(frame, (0, 0), fx=0.25, fy=0.25)\n",
    "\n",
    "        # Convert the image from BGR color (which OpenCV uses) to RGB color (which face_recognition uses)\n",
    "        rgb_small_frame = cv2.cvtColor(small_frame, cv2.COLOR_BGR2RGB)\n",
    "\n",
    "        # Find all the faces and face encodings in the current frame of video\n",
    "        face_locations = face_recognition.face_locations(rgb_small_frame)\n",
    "        face_encodings = face_recognition.face_encodings(rgb_small_frame, face_locations, num_jitters = 1, model='small')\n",
    "\n",
    "        face_names = []\n",
    "        for face_encoding in face_encodings:\n",
    "            # See if the face is a match for the known face(s)\n",
    "            matches = face_recognition.compare_faces(known_face_encodings, face_encoding, tolerance = 0.48)\n",
    "            name = \"Unknown\"\n",
    "\n",
    "            # Use the known face with the smallest distance to the new face\n",
    "            face_distances = face_recognition.face_distance(known_face_encodings, face_encoding)\n",
    "            best_match_index = np.argmin(face_distances)\n",
    "            if matches[best_match_index]:\n",
    "                name = known_face_names[best_match_index]\n",
    "                \n",
    "                # add number of frames\n",
    "                recognized_frames[best_match_index] += 2\n",
    "                \n",
    "                \n",
    "            face_names.append(name)\n",
    "\n",
    "    process_this_frame = not process_this_frame\n",
    "\n",
    "\n",
    "    # Display the results\n",
    "    for (top, right, bottom, left), name in zip(face_locations, face_names):\n",
    "        # Scale back up face locations since the frame we detected in was scaled to 1/4 size\n",
    "        top *= 4\n",
    "        right *= 4\n",
    "        bottom *= 4\n",
    "        left *= 4\n",
    "\n",
    "        # Draw a box around the face\n",
    "        cv2.rectangle(frame, (left, top), (right, bottom), (0, 0, 255), 2)\n",
    "\n",
    "        # Draw a label with a name below the face\n",
    "        cv2.rectangle(frame, (left, bottom - 35), (right, bottom), (0, 0, 255), cv2.FILLED)\n",
    "        font = cv2.FONT_HERSHEY_DUPLEX\n",
    "        cv2.putText(frame, name, (left + 6, bottom - 6), font, 1.0, (255, 255, 255), 1)\n",
    "\n",
    "    # Display the resulting image\n",
    "    cv2.imshow('Video', frame)\n",
    "\n",
    "    # Hit 'q' on the keyboard to quit!\n",
    "    if cv2.waitKey(1) & 0xFF == ord('q'):\n",
    "        break\n",
    "\n",
    "# Release handle to the webcam\n",
    "video_capture.release()\n",
    "cv2.destroyAllWindows()\n",
    "\n",
    "# output\n",
    "print(\"\\nRegister\\n\")\n",
    "\n",
    "for i in range(0, NUM_STUDENTS):\n",
    "    \n",
    "    if(recognized_frames[i] >= 10):\n",
    "        students_present[i] = True\n",
    "    \n",
    "    print(known_face_names[i], ' '*(40 -  len(known_face_names[i])), students_present[i])"
   ]
  },
  {
   "cell_type": "code",
   "execution_count": null,
   "id": "0deb6757",
   "metadata": {},
   "outputs": [],
   "source": []
  }
 ],
 "metadata": {
  "kernelspec": {
   "display_name": "Python 3 (ipykernel)",
   "language": "python",
   "name": "python3"
  },
  "language_info": {
   "codemirror_mode": {
    "name": "ipython",
    "version": 3
   },
   "file_extension": ".py",
   "mimetype": "text/x-python",
   "name": "python",
   "nbconvert_exporter": "python",
   "pygments_lexer": "ipython3",
   "version": "3.9.12"
  }
 },
 "nbformat": 4,
 "nbformat_minor": 5
}
